{
 "cells": [
  {
   "cell_type": "code",
   "execution_count": 1,
   "metadata": {},
   "outputs": [],
   "source": [
    "import sqlite3\n",
    "from datetime import date\n",
    "import holidays\n",
    "\n",
    "conn = sqlite3.connect(\"my_database_project.db\")\n",
    "cur = conn.cursor()"
   ]
  },
  {
   "cell_type": "code",
   "execution_count": 2,
   "metadata": {},
   "outputs": [],
   "source": [
    "def is_leap_year(year):\n",
    "    if (year % 4 == 0 and year % 100 != 0) or (year % 400 == 0):\n",
    "        return True\n",
    "    return False"
   ]
  },
  {
   "cell_type": "code",
   "execution_count": 3,
   "metadata": {},
   "outputs": [],
   "source": [
    "#create table for datum \n",
    "\n",
    "cur.execute(\"\"\"\n",
    "CREATE TABLE IF NOT EXISTS Date_dim (\n",
    "    DateID INTEGER PRIMARY KEY AUTOINCREMENT,\n",
    "    Date TEXT NOT NULL,\n",
    "    year INTEGER NOT NULL,\n",
    "    month INTEGER NOT NULL,\n",
    "    day INTEGER NOT NULL,\n",
    "    day_of_the_week TEXT NOT NULL,\n",
    "    is_holiday BOOLEAN DEFAULT 0,\n",
    "    quarter INTEGER NOT NULL\n",
    ")\n",
    "\"\"\")\n",
    "\n",
    "cur.execute(\"\"\"\n",
    "CREATE TABLE IF NOT EXISTS time_dim (\n",
    "    timeID INTEGER PRIMARY KEY,\n",
    "    time_of_the_day TEXT NOT NULL \n",
    ")\n",
    "\"\"\")\n",
    "conn.commit()\n"
   ]
  },
  {
   "cell_type": "code",
   "execution_count": 4,
   "metadata": {},
   "outputs": [],
   "source": [
    "dates = []\n",
    "for year in range(2018, 2024):\n",
    "    berlin_holidays = holidays.Germany(years =year,subdiv='BE')\n",
    "    for month in range(1, 13):\n",
    "        for day in range(1, 32):\n",
    "            if month == 2 and is_leap_year(year) and day == 30:\n",
    "                break\n",
    "            elif month == 2 and not is_leap_year(year) and day == 29:\n",
    "                break\n",
    "            elif month in (4,6,9,11)  and day == 31:\n",
    "                break\n",
    "            elif month in (1,3,5,7,8,10,12) and day == 32:\n",
    "                break\n",
    "            \n",
    "            d = date(year, month, day)  # Year, Month, Day\n",
    "            formatted_date = d.strftime(\"%d.%m.%Y\")\n",
    "            is_holiday = d in berlin_holidays\n",
    "\n",
    "            day_of_week = d.weekday()\n",
    "            quarter = (month - 1) // 3 + 1\n",
    "            d_to_save= (formatted_date, year ,month , day, d.weekday(), is_holiday,quarter)\n",
    "            dates.append(d_to_save)\n",
    "\n",
    "cur.executemany(\"INSERT INTO Date_dim(date, year, month, day,day_of_the_week, is_holiday,quarter) VALUES (?,?,?,?,?,?,?)\" , dates)\n",
    "conn.commit()"
   ]
  },
  {
   "cell_type": "code",
   "execution_count": 5,
   "metadata": {},
   "outputs": [
    {
     "data": {
      "text/plain": [
       "[(2191,)]"
      ]
     },
     "execution_count": 5,
     "metadata": {},
     "output_type": "execute_result"
    }
   ],
   "source": [
    "#check data is well stored \n",
    "cur.execute('select max(DateID) from date_dim ').fetchall()"
   ]
  },
  {
   "cell_type": "code",
   "execution_count": 6,
   "metadata": {},
   "outputs": [],
   "source": [
    "time_of_the_day = ''\n",
    "for i in range (0, 24):\n",
    "    if i >= 4 and i < 10 :\n",
    "        time_of_the_day ='morgens'\n",
    "    if i >= 10 and i < 12:\n",
    "          time_of_the_day ='vormittags'\n",
    "    if i == 12 :\n",
    "        time_of_the_day ='mittags'\n",
    "    if i > 12 and i < 17:\n",
    "          time_of_the_day ='nachmittags'\n",
    "    if i > 17 and i <= 22:\n",
    "          time_of_the_day ='abends'      \n",
    "    if i > 22 or i < 4:\n",
    "      time_of_the_day ='nachts'\n",
    "   \n",
    "        \n",
    "    cur.execute(\"INSERT INTO time_dim(timeID, time_of_the_day) VALUES  (?, ?)\", (i,time_of_the_day))\n",
    "    conn.commit()"
   ]
  },
  {
   "cell_type": "code",
   "execution_count": 7,
   "metadata": {},
   "outputs": [
    {
     "data": {
      "text/plain": [
       "[(0, 'nachts'),\n",
       " (1, 'nachts'),\n",
       " (2, 'nachts'),\n",
       " (3, 'nachts'),\n",
       " (4, 'morgens'),\n",
       " (5, 'morgens'),\n",
       " (6, 'morgens'),\n",
       " (7, 'morgens'),\n",
       " (8, 'morgens'),\n",
       " (9, 'morgens'),\n",
       " (10, 'vormittags'),\n",
       " (11, 'vormittags'),\n",
       " (12, 'mittags'),\n",
       " (13, 'nachmittags'),\n",
       " (14, 'nachmittags'),\n",
       " (15, 'nachmittags'),\n",
       " (16, 'nachmittags'),\n",
       " (17, 'nachmittags'),\n",
       " (18, 'abends'),\n",
       " (19, 'abends'),\n",
       " (20, 'abends'),\n",
       " (21, 'abends'),\n",
       " (22, 'abends'),\n",
       " (23, 'nachts')]"
      ]
     },
     "execution_count": 7,
     "metadata": {},
     "output_type": "execute_result"
    }
   ],
   "source": [
    "#check data is well stored \n",
    "# we can add a Spalte hour as a string '00' or '01' ...\n",
    "cur.execute('select * from time_dim').fetchall()"
   ]
  },
  {
   "cell_type": "code",
   "execution_count": 8,
   "metadata": {},
   "outputs": [],
   "source": [
    "cur.close()\n",
    "conn.close()"
   ]
  }
 ],
 "metadata": {
  "kernelspec": {
   "display_name": "Python 3",
   "language": "python",
   "name": "python3"
  },
  "language_info": {
   "codemirror_mode": {
    "name": "ipython",
    "version": 3
   },
   "file_extension": ".py",
   "mimetype": "text/x-python",
   "name": "python",
   "nbconvert_exporter": "python",
   "pygments_lexer": "ipython3",
   "version": "3.12.7"
  }
 },
 "nbformat": 4,
 "nbformat_minor": 2
}
