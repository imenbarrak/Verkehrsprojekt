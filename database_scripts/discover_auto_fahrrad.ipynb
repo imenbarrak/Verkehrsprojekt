{
 "cells": [
  {
   "cell_type": "code",
   "execution_count": 2,
   "metadata": {},
   "outputs": [],
   "source": [
    "import sqlite3\n",
    "import pandas as pd\n",
    "import os\n",
    "import geopandas as gpd\n",
    "from shapely.geometry import Point\n",
    "import osmnx as ox\n",
    "\n",
    "conn = sqlite3.connect(\"my_database_project.db\")\n",
    "cur = conn.cursor()"
   ]
  },
  {
   "cell_type": "code",
   "execution_count": 2,
   "metadata": {},
   "outputs": [
    {
     "data": {
      "text/plain": [
       "<sqlite3.Cursor at 0x22dba5dd840>"
      ]
     },
     "execution_count": 2,
     "metadata": {},
     "output_type": "execute_result"
    }
   ],
   "source": [
    "# Create the table Bezirke\n",
    "cur.execute('''\n",
    "CREATE TABLE IF NOT EXISTS Bezirke (\n",
    "    Bezirk TEXT PRIMARY KEY ,\n",
    "    Breitengrad REAL,\n",
    "    Längengrad REAL,\n",
    "    geometry TEXT\n",
    ")\n",
    "''')\n",
    "\n",
    "# Create the table Standorten_Zählstelle\n",
    "cur.execute('''\n",
    "CREATE TABLE IF NOT EXISTS Standorten_Zählstelle (\n",
    "    Zählstelle TEXT,\n",
    "    Bezirk TEXT,\n",
    "    Beschreibung TEXT,\n",
    "    Installationsdatum DATE\n",
    ")\n",
    "''')\n",
    "\n",
    "# Create the table Messquerschnitt\n",
    "cur.execute('''\n",
    "CREATE TABLE IF NOT EXISTS Messquerschnitt (\n",
    "    MQ_KURZNAME TEXT,\n",
    "    Bezirk TEXT,\n",
    "    STRASSE TEXT,\n",
    "    POSITION TEXT,\n",
    "    POS_DETAIL TEXT,\n",
    "    INBETRIEBNAHME TEXT\n",
    ")\n",
    "''')"
   ]
  },
  {
   "cell_type": "code",
   "execution_count": 3,
   "metadata": {},
   "outputs": [
    {
     "name": "stdout",
     "output_type": "stream",
     "text": [
      "Bezirke data saved successfully!\n"
     ]
    },
    {
     "name": "stderr",
     "output_type": "stream",
     "text": [
      "C:\\Users\\user\\AppData\\Local\\Temp\\ipykernel_20632\\4189669575.py:25: UserWarning: Geometry is in a geographic CRS. Results from 'centroid' are likely incorrect. Use 'GeoSeries.to_crs()' to re-project geometries to a projected CRS before this operation.\n",
      "\n",
      "  gdf_bezirke['Breitengrad'] = gdf_bezirke.geometry.centroid.y\n",
      "C:\\Users\\user\\AppData\\Local\\Temp\\ipykernel_20632\\4189669575.py:26: UserWarning: Geometry is in a geographic CRS. Results from 'centroid' are likely incorrect. Use 'GeoSeries.to_crs()' to re-project geometries to a projected CRS before this operation.\n",
      "\n",
      "  gdf_bezirke['Längengrad'] = gdf_bezirke.geometry.centroid.x\n",
      "C:\\Users\\user\\AppData\\Local\\Temp\\ipykernel_20632\\4189669575.py:30: UserWarning: Geometry column does not contain geometry.\n",
      "  df_bezirke['geometry'] = df_bezirke['geometry'].apply(lambda geom: geom.wkt)  # Convert geometry to WKT\n"
     ]
    }
   ],
   "source": [
    "# Fetch administrative boundaries for Berlin Bezirke\n",
    "gdf = ox.features_from_place(\n",
    "    \"Berlin, Germany\",\n",
    "    tags={\"boundary\": \"administrative\", \"admin_level\": \"6\"}\n",
    ")\n",
    "\n",
    "# Filter only relevant columns\n",
    "gdf = gdf[['name', 'geometry']]\n",
    "\n",
    "# Save the GeoDataFrame as a GeoJSON file\n",
    "gdf.to_file(\"berlin_bezirke.geojson\", driver=\"GeoJSON\")\n",
    "\n",
    "# List of desired Berlin Bezirke\n",
    "berlin_bezirke = [\n",
    "    \"Charlottenburg-Wilmersdorf\", \"Friedrichshain-Kreuzberg\", \"Lichtenberg\",\n",
    "    \"Marzahn-Hellersdorf\", \"Mitte\", \"Neukölln\", \"Pankow\", \"Reinickendorf\",\n",
    "    \"Spandau\", \"Steglitz-Zehlendorf\", \"Tempelhof-Schöneberg\", \"Treptow-Köpenick\"\n",
    "]\n",
    "\n",
    "# Load and process GeoJSON file\n",
    "gdf_bezirke = gpd.read_file(\"berlin_bezirke.geojson\")\n",
    "gdf_bezirke = gdf_bezirke[gdf_bezirke['name'].isin(berlin_bezirke)]  # Filter Bezirke\n",
    "gdf_bezirke = gdf_bezirke.dissolve(by=\"name\")  # Dissolve by name\n",
    "gdf_bezirke = gdf_bezirke.to_crs(\"EPSG:4326\")  # Ensure CRS is WGS84\n",
    "gdf_bezirke['Breitengrad'] = gdf_bezirke.geometry.centroid.y\n",
    "gdf_bezirke['Längengrad'] = gdf_bezirke.geometry.centroid.x\n",
    "gdf_bezirke.drop(['element','id'], axis =1, inplace=True)\n",
    "# Prepare the DataFrame for SQL\n",
    "df_bezirke = gdf_bezirke.reset_index()\n",
    "df_bezirke['geometry'] = df_bezirke['geometry'].apply(lambda geom: geom.wkt)  # Convert geometry to WKT\n",
    "df_bezirke = df_bezirke.rename(columns={'name': 'Bezirk', 'geometry': 'Geometry'})\n",
    "\n",
    "# Insert data into the SQLite table using pandas\n",
    "df_bezirke[['Bezirk', 'Breitengrad', 'Längengrad', 'Geometry']].to_sql(\n",
    "    'Bezirke', conn, if_exists='replace', index=False\n",
    ")\n",
    "\n",
    "print(\"Bezirke data saved successfully!\")\n"
   ]
  },
  {
   "cell_type": "code",
   "execution_count": null,
   "metadata": {},
   "outputs": [],
   "source": [
    "#überprüfen  dass alle notwendige Informationen zu Bezirke sind in der Db gespeichert\n",
    "df = pd.read_sql_query('SELECT * FROM Bezirke', conn)\n",
    "df"
   ]
  },
  {
   "cell_type": "code",
   "execution_count": 4,
   "metadata": {},
   "outputs": [],
   "source": [
    "\n",
    "excel_file_path = 'Fahrrad/gesamtdatei-stundenwerte.xlsx' \n",
    "# Load the data from Excel\n",
    "if os.path.exists(excel_file_path):\n",
    "    df_zaehlstellen = pd.read_excel(excel_file_path, sheet_name = 'Standortdaten')\n",
    "else:\n",
    "    print(f\"Die Datei'{excel_file_path} wurde nicht gefunden.\")\n",
    "    \n",
    "    \n",
    "df_zaehlstellen.columns = ['Zählstelle', 'Beschreibung', 'Breitengrad', 'Längengrad', 'Installationsdatum']\n",
    "\n",
    "# Create GeoDataFrame for Zählstellen\n",
    "geometry = [Point(xy) for xy in zip(df_zaehlstellen[\"Längengrad\"], df_zaehlstellen[\"Breitengrad\"])]\n",
    "gdf_zaehlstellen = gpd.GeoDataFrame(df_zaehlstellen, geometry=geometry, crs=\"EPSG:4326\")\n",
    "\n",
    "# Spatial join: Match Zählstellen with Bezirke\n",
    "gdf_zaehlstellen = gpd.sjoin(gdf_zaehlstellen, gdf_bezirke, how=\"left\", predicate=\"within\")\n",
    "\n",
    "# Keep only relevant columns\n",
    "result = gdf_zaehlstellen[[\"Zählstelle\", \"name\", 'Beschreibung', 'Installationsdatum']]\n",
    "result = result.rename(columns={'name': 'Bezirk'})\n",
    "#insert in the database\n",
    "result.to_sql('Standorten_Zählstelle', conn, if_exists = 'append', index = False)\n",
    "\n",
    "conn.commit()"
   ]
  },
  {
   "cell_type": "code",
   "execution_count": null,
   "metadata": {},
   "outputs": [],
   "source": [
    "#get from db // check if the inert of Standortendaten sind richtig hinzugefügt\n",
    "df = pd.read_sql_query('SELECT * FROM Standorten_Zählstelle', conn)\n",
    "df"
   ]
  },
  {
   "cell_type": "code",
   "execution_count": 4,
   "metadata": {},
   "outputs": [],
   "source": [
    "#if we need to store in a csv File\n",
    "df_zählstelle = pd.read_sql_query('SELECT * FROM Standorten_Zählstelle', conn)\n",
    "# Write DataFrame to a CSV file\n",
    "df_zählstelle.to_csv('Standorten_Zählstelle.csv', index=False)"
   ]
  },
  {
   "cell_type": "code",
   "execution_count": 5,
   "metadata": {},
   "outputs": [],
   "source": [
    "file_path = 'Stammdaten_Verkehrsdetektion_2022_07_20.xlsx'\n",
    "\n",
    "if os.path.exists(file_path):\n",
    "    df_Messquerschnitt = pd.read_excel(file_path)\n",
    "else:\n",
    "    print(f\"Die Datei '{file_path}' wurde nicht gefunden.\")\n",
    "\n",
    "df_Messquerschnitt.drop(['MQ_ID15','DET_NAME_ALT','DET_NAME_NEU', 'DET_ID15','ABBAUDATUM','RICHTUNG',\n",
    "       'DEINSTALLIERT', 'KOMMENTAR','annotation','SPUR'], axis = 1,inplace = True)\n",
    "#wir behalten nur die notwendige Informationen\n",
    "df_Messquerschnitt.columns = ['MQ_KURZNAME','STRASSE','POSITION','POS_DETAIL','BREITE_WGS84','LÄNGE_WGS84',\n",
    "    'INBETRIEBNAHME']\n",
    "\n",
    "df_Messquerschnitt = df_Messquerschnitt.drop_duplicates()\n",
    "df_Messquerschnitt = df_Messquerschnitt.rename(columns={'BREITE_WGS84': 'Breitengrad','LÄNGE_WGS84':'Längengrad' })\n",
    "# Create GeoDataFrame for MQ\n",
    "geometry = [Point(xy) for xy in zip(df_Messquerschnitt[\"Breitengrad\"], df_Messquerschnitt[\"Längengrad\"])]\n",
    "gdf_Messquerschnitt = gpd.GeoDataFrame(df_Messquerschnitt, geometry = geometry, crs=\"EPSG:4326\")\n",
    "#match MQ with Bezirk\n",
    "gdf_Messquerschnitt = gpd.sjoin(gdf_Messquerschnitt, gdf_bezirke, how = \"left\", predicate = \"within\")\n",
    "result = gdf_Messquerschnitt[['MQ_KURZNAME','name','STRASSE','POSITION','POS_DETAIL','INBETRIEBNAHME']]\n",
    "result = result.rename(columns={'name': 'Bezirk'})\n",
    "result.to_sql('Messquerschnitt', conn, if_exists = 'append', index = False)\n",
    "\n",
    "conn.commit()"
   ]
  },
  {
   "cell_type": "code",
   "execution_count": 5,
   "metadata": {},
   "outputs": [],
   "source": [
    "df_Messquerschnitt = pd.read_sql_query('SELECT * FROM Messquerschnitt', conn)\n",
    "# Write DataFrame to a CSV file\n",
    "df_Messquerschnitt.to_csv('Messquerschnitt.csv', index=False)"
   ]
  },
  {
   "cell_type": "code",
   "execution_count": 6,
   "metadata": {},
   "outputs": [],
   "source": [
    "cur.execute(\"\"\"\n",
    "CREATE TABLE IF NOT EXISTS Messdaten_auto(\n",
    "    MQ_KURZNAME TEXT NOT NULL,\n",
    "    DateId DATETIME NOT NULL,\n",
    "    TimeId INTEGER,\n",
    "    q_pkw_mq_hr INTEGER,\n",
    "    FOREIGN KEY (MQ_KURZNAME) REFERENCES Messquerschnitt(MQ_KURZNAME),\n",
    "    FOREIGN KEY (DateId) REFERENCES Date_dim(DateID),\n",
    "    FOREIGN KEY (TimeId) REFERENCES Time_dim(timeID)\n",
    ")\n",
    "\"\"\")\n",
    "conn.commit()"
   ]
  },
  {
   "cell_type": "code",
   "execution_count": null,
   "metadata": {},
   "outputs": [],
   "source": [
    "#code ohne multiprocessing the other code with multi processing is vorhanden\n",
    "data = []\n",
    "for year in range(2018, 2024):\n",
    "    for month in range(1, 13):\n",
    "        str_month = str(month).zfill(2)  # Ensure two-digit month format\n",
    "        file_path = f'Auto_{year}/mq_hr_{year}_{str_month}.csv.gz'\n",
    "        df = pd.read_csv(file_path,delimiter =';', compression='gzip', chunksize=10000)\n",
    "        #Wir behalten nur die notwendige Spalten\n",
    "        df.drop(['v_pkw_mq_hr', 'q_lkw_mq_hr', 'v_lkw_mq_hr','qualitaet', 'q_kfz_mq_hr', 'v_kfz_mq_hr'],  axis = 1, inplace = True)\n",
    "\n",
    "        date_ids = [\n",
    "            cur.execute(\"SELECT DateID FROM Date_dim WHERE date = ?\", (date,)).fetchone()[0]\n",
    "            for date in df['tag'].tolist()\n",
    "            ]\n",
    "        mq_ids = [\n",
    "            cur.execute(\"SELECT mq_id FROM Messquerschnitt WHERE MQ_KURZNAME = ?\", (mq_name,)).fetchone()[0]\n",
    "            for mq_name in df['mq_name'].tolist()\n",
    "        ]\n",
    "        hour_ids = df['stunde'].tolist()\n",
    "        data.extend([(mq_id, date_id, hour_id,  wert) for mq_id, date_id, hour_id,  wert in zip(mq_ids,date_ids, hour_ids,  df['q_pkw_mq_hr'])])\n",
    "    \n",
    "        try:\n",
    "            cur.executemany(\"INSERT INTO Messdaten_auto (Mq_id, DateID, TimeID, q_pkw_mq_hr) VALUES (?,?,?,?)\" , data)          \n",
    "            conn.commit()\n",
    "        except sqlite3.Error as e:\n",
    "            print(f'error inserting entry :{e}')"
   ]
  },
  {
   "cell_type": "code",
   "execution_count": 3,
   "metadata": {},
   "outputs": [],
   "source": [
    "df = pd.read_sql_query('SELECT * FROM Messdaten_auto', conn)\n",
    "df.to_csv('Messdaten_auto.csv', index=False)\n",
    "#df.head()"
   ]
  },
  {
   "cell_type": "code",
   "execution_count": 8,
   "metadata": {},
   "outputs": [],
   "source": [
    "cur.execute(\"\"\"\n",
    "CREATE TABLE IF NOT EXISTS Messdaten_Fahrrad (\n",
    "    Zählstelle TEXT NOT NULL,\n",
    "    DateID DATETIME NOT NULL,\n",
    "    TimeID INTEGER,\n",
    "    Wert INTEGER,\n",
    "    FOREIGN KEY (Zählstelle) REFERENCES Standorten_Zählstelle(Zählstelle),\n",
    "    FOREIGN KEY (DateID) REFERENCES Date_dim(DateID),\n",
    "    FOREIGN KEY (TimeID) REFERENCES Time_dim(TimeID)\n",
    ")\n",
    "\"\"\")\n",
    "conn.commit()"
   ]
  },
  {
   "cell_type": "code",
   "execution_count": 4,
   "metadata": {},
   "outputs": [
    {
     "name": "stdout",
     "output_type": "stream",
     "text": [
      "Jahresdatei 2018\n",
      "Jahresdatei 2019\n",
      "Jahresdatei 2020\n",
      "Jahresdatei 2021\n",
      "Jahresdatei 2022\n",
      "Jahresdatei 2023\n"
     ]
    }
   ],
   "source": [
    "\n",
    "excel_file_path = 'Fahrrad/gesamtdatei-stundenwerte.xlsx'\n",
    "\n",
    "excel_file = pd.ExcelFile(excel_file_path)\n",
    "sheet_names = excel_file.sheet_names\n",
    "\n",
    "data = [] \n",
    "for item in sheet_names[3:]:\n",
    "    print(item)\n",
    "    df = pd.read_excel(excel_file_path, sheet_name = item,index_col = 0)\n",
    "    df_reset = df.reset_index()\n",
    "\n",
    "    df_reset.iloc[:,0]= pd.to_datetime(df_reset.iloc[:,0])\n",
    "    df_reset['Date'] = df_reset.iloc[:,0].dt.strftime('%d.%m.%Y')  # Extract the date part\n",
    "    df_reset['Time'] = df_reset.iloc[:,0].dt.hour  # Extract the time part\n",
    "\n",
    "    df_reset.drop('Zählstelle        Inbetriebnahme', axis = 1, inplace = True)\n",
    "    columns = ['Date', 'Time'] + [col for col in df.columns if col not in ['Date', 'Time']]\n",
    "\n",
    "    # Reorder the DataFrame\n",
    "    df_reset = df_reset[columns]\n",
    "    date_ids = [\n",
    "        cur.execute(\"SELECT DateID FROM Date_dim WHERE date = ?\", (date,)).fetchone()[0]\n",
    "        for date in df_reset['Date'].tolist()\n",
    "    ]\n",
    "    hour_ids = df_reset['Time'].tolist()\n",
    "    try:\n",
    "        for column in df_reset.columns[2:]:\n",
    "            zaehler = column.split()[0]\n",
    "            zaehler_ids = [zaehler for _ in range(len(date_ids))]\n",
    "            data.extend([(zaehler_id, date_id, hour_id,  wert) for zaehler_id, date_id, hour_id,  wert in zip(zaehler_ids,date_ids, hour_ids,  df_reset[column])])\n",
    "\n",
    "        cur.executemany(\"INSERT INTO Messdaten_Fahrrad (Zählstelle, DateID, TimeID, Wert) VALUES (?,?,?,?)\" , data)        \n",
    "        \n",
    "    except Exception as e:\n",
    "        print(f\"Es gibt ein Problem {e}\")\n",
    "        \n",
    "        conn.commit()"
   ]
  },
  {
   "cell_type": "code",
   "execution_count": 5,
   "metadata": {},
   "outputs": [
    {
     "data": {
      "text/html": [
       "<div>\n",
       "<style scoped>\n",
       "    .dataframe tbody tr th:only-of-type {\n",
       "        vertical-align: middle;\n",
       "    }\n",
       "\n",
       "    .dataframe tbody tr th {\n",
       "        vertical-align: top;\n",
       "    }\n",
       "\n",
       "    .dataframe thead th {\n",
       "        text-align: right;\n",
       "    }\n",
       "</style>\n",
       "<table border=\"1\" class=\"dataframe\">\n",
       "  <thead>\n",
       "    <tr style=\"text-align: right;\">\n",
       "      <th></th>\n",
       "      <th>Zählstelle</th>\n",
       "      <th>DateID</th>\n",
       "      <th>TimeID</th>\n",
       "      <th>Wert</th>\n",
       "    </tr>\n",
       "  </thead>\n",
       "  <tbody>\n",
       "    <tr>\n",
       "      <th>5223321</th>\n",
       "      <td>27-RE-MAR</td>\n",
       "      <td>2191</td>\n",
       "      <td>19</td>\n",
       "      <td>18.0</td>\n",
       "    </tr>\n",
       "    <tr>\n",
       "      <th>5223322</th>\n",
       "      <td>27-RE-MAR</td>\n",
       "      <td>2191</td>\n",
       "      <td>20</td>\n",
       "      <td>11.0</td>\n",
       "    </tr>\n",
       "    <tr>\n",
       "      <th>5223323</th>\n",
       "      <td>27-RE-MAR</td>\n",
       "      <td>2191</td>\n",
       "      <td>21</td>\n",
       "      <td>10.0</td>\n",
       "    </tr>\n",
       "    <tr>\n",
       "      <th>5223324</th>\n",
       "      <td>27-RE-MAR</td>\n",
       "      <td>2191</td>\n",
       "      <td>22</td>\n",
       "      <td>5.0</td>\n",
       "    </tr>\n",
       "    <tr>\n",
       "      <th>5223325</th>\n",
       "      <td>27-RE-MAR</td>\n",
       "      <td>2191</td>\n",
       "      <td>23</td>\n",
       "      <td>4.0</td>\n",
       "    </tr>\n",
       "  </tbody>\n",
       "</table>\n",
       "</div>"
      ],
      "text/plain": [
       "        Zählstelle  DateID  TimeID  Wert\n",
       "5223321  27-RE-MAR    2191      19  18.0\n",
       "5223322  27-RE-MAR    2191      20  11.0\n",
       "5223323  27-RE-MAR    2191      21  10.0\n",
       "5223324  27-RE-MAR    2191      22   5.0\n",
       "5223325  27-RE-MAR    2191      23   4.0"
      ]
     },
     "execution_count": 5,
     "metadata": {},
     "output_type": "execute_result"
    }
   ],
   "source": [
    "df = pd.read_sql_query('SELECT * FROM Messdaten_Fahrrad', conn)\n",
    "df.tail()      "
   ]
  },
  {
   "cell_type": "code",
   "execution_count": null,
   "metadata": {},
   "outputs": [],
   "source": [
    "query = cur.execute(\"SELECT count(*) FROM Messdaten_Fahrrad\")\n",
    "print(query.fetchall())"
   ]
  },
  {
   "cell_type": "code",
   "execution_count": null,
   "metadata": {},
   "outputs": [],
   "source": [
    "\n",
    "#I updated the excelfile I removed unused sheets and renamed in years_sheet the \n",
    "# 17-SZ-BRE-O  to 17-SK-BRE-O \n",
    "# 17-SZ-BRE-W to 17-SK-BRE-W\n",
    "# 02-MI-AL-W to 01-MI-AL-W\n",
    "# 02-PA-SE-N to 11-PA-SE-N\n",
    "# I have to check nan werte /null Werte /0 Werte"
   ]
  },
  {
   "cell_type": "code",
   "execution_count": null,
   "metadata": {},
   "outputs": [],
   "source": [
    "#to check if all the Data is well stored in the database \n",
    "df = pd.read_sql_query(\"SELECT * FROM Messquerschnitt where MQ_KURZNAME like '%n'\", conn)\n",
    "df\n",
    "#es gibt mq_name vorhanden mit n am Ende, die sind nicht vorhanden in messquerchnitt Datei"
   ]
  },
  {
   "cell_type": "code",
   "execution_count": 6,
   "metadata": {},
   "outputs": [],
   "source": [
    "cur.close()\n",
    "conn.close()"
   ]
  }
 ],
 "metadata": {
  "kernelspec": {
   "display_name": "Python 3",
   "language": "python",
   "name": "python3"
  },
  "language_info": {
   "codemirror_mode": {
    "name": "ipython",
    "version": 3
   },
   "file_extension": ".py",
   "mimetype": "text/x-python",
   "name": "python",
   "nbconvert_exporter": "python",
   "pygments_lexer": "ipython3",
   "version": "3.12.7"
  }
 },
 "nbformat": 4,
 "nbformat_minor": 2
}
