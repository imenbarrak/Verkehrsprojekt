{
 "cells": [
  {
   "cell_type": "code",
   "execution_count": 2,
   "metadata": {},
   "outputs": [],
   "source": [
    "import sys\n",
    "import os\n",
    "\n",
    "# Add the path to `database_scripts` folder\n",
    "sys.path.append(os.path.abspath(\"../database_scripts\"))\n",
    "import  db_utils as du\n",
    "import create_tables as ct\n",
    "gdf_bezirke = du.get_geo()"
   ]
  },
  {
   "cell_type": "code",
   "execution_count": null,
   "metadata": {},
   "outputs": [],
   "source": [
    "from shapely import Point\n",
    "import geopandas as gpd\n",
    "import pandas as pd\n",
    "\n",
    "excel_file_path = '../data/raw/Fahrrad/gesamtdatei-stundenwerte.xlsx'\n",
    "\n",
    "\n",
    "df_zaehlstellen = pd.read_excel(excel_file_path, sheet_name = 'Standortdaten')\n",
    "\n",
    "df_zaehlstellen.columns = ['Zählstelle', 'Beschreibung', 'Breitengrad', 'Längengrad', 'Installationsdatum']\n",
    "\n",
    "# Create GeoDataFrame for Zählstellen\n",
    "geometry = [Point(xy) for xy in zip(df_zaehlstellen[\"Längengrad\"], df_zaehlstellen[\"Breitengrad\"])]\n",
    "gdf_zaehlstellen = gpd.GeoDataFrame(df_zaehlstellen, geometry=geometry, crs=\"EPSG:4326\")\n",
    "\n",
    "# Spatial join: Match Zählstellen with Bezirke\n",
    "gdf_zaehlstellen = gpd.sjoin(gdf_zaehlstellen, gdf_bezirke, how=\"left\", predicate=\"within\")\n",
    " "
   ]
  },
  {
   "cell_type": "code",
   "execution_count": null,
   "metadata": {},
   "outputs": [],
   "source": [
    "gdf_zaehlstellen"
   ]
  },
  {
   "cell_type": "code",
   "execution_count": null,
   "metadata": {},
   "outputs": [],
   "source": [
    "import matplotlib.pyplot as plt\n",
    "\n",
    "ax = gdf_bezirke.plot(color=\"lightblue\", edgecolor=\"black\", figsize=(10, 10))\n",
    "gdf_zaehlstellen.plot(ax=ax, color=\"red\", markersize=10)\n",
    "plt.title(\"Zählstellen and Bezirke\")\n",
    "plt.xlabel(\"Longitude\")\n",
    "plt.ylabel(\"Latitude\")\n",
    "plt.show()"
   ]
  },
  {
   "cell_type": "code",
   "execution_count": null,
   "metadata": {},
   "outputs": [],
   "source": [
    "print(gdf_bezirke.columns)"
   ]
  },
  {
   "cell_type": "code",
   "execution_count": null,
   "metadata": {},
   "outputs": [],
   "source": [
    "\n",
    "import folium\n",
    "from shapely.geometry import mapping\n",
    "\n",
    "# Create a folium map centered on Berlin\n",
    "m = folium.Map(location=[52.5200, 13.4050], zoom_start=11)\n",
    "\n",
    "# Add Bezirke polygons\n",
    "for _, row in gdf_bezirke.iterrows():\n",
    "    folium.GeoJson(\n",
    "        mapping(row['geometry']),\n",
    "        name=row['element'],\n",
    "        tooltip=folium.Tooltip(f\"Bezirk: {row['element']}\"),\n",
    "    ).add_to(m)\n",
    "\n",
    "# Add Zählstellen points\n",
    "for _, row in gdf_zaehlstellen.iterrows():\n",
    "    folium.Marker(\n",
    "        location=[row['Breitengrad'], row['Längengrad']],\n",
    "        tooltip=f\"Zählstelle: {row['Zählstelle']}\\nBeschreibung: {row['Beschreibung']}\"\n",
    "    ).add_to(m)\n",
    "\n",
    "# Save to an HTML file or display in Jupyter Notebook\n",
    "m.save(\"berlin_interactive_map.html\")\n",
    "m\n"
   ]
  }
 ],
 "metadata": {
  "kernelspec": {
   "display_name": "Python 3",
   "language": "python",
   "name": "python3"
  },
  "language_info": {
   "codemirror_mode": {
    "name": "ipython",
    "version": 3
   },
   "file_extension": ".py",
   "mimetype": "text/x-python",
   "name": "python",
   "nbconvert_exporter": "python",
   "pygments_lexer": "ipython3",
   "version": "3.12.7"
  }
 },
 "nbformat": 4,
 "nbformat_minor": 2
}
