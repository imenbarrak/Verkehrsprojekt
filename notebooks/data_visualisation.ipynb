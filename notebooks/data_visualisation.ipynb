{
 "cells": [
  {
   "cell_type": "code",
   "execution_count": null,
   "metadata": {},
   "outputs": [],
   "source": [
    "import sys\n",
    "import os\n",
    "\n",
    "# Add the path to `database_scripts` folder\n",
    "sys.path.append(os.path.abspath(\"../database_scripts\"))\n",
    "import db_utils as du\n",
    "import create_tables as ct\n",
    "\n",
    "\n",
    "conn = ct.create_or_open_database()\n",
    "df_fahrrad_Zähler = du.fetch_data_df('Standorten_Zählstelle',conn)\n",
    "df_mess_Fahrrad= du.fetch_data_df('Messdaten_Fahrrad',conn)\n",
    "df_bezirke= du.fetch_data_df('Bezirke',conn)\n",
    "df_date = du.fetch_data_df('Date_dim',conn)\n",
    "df_time = du.fetch_data_df('Time_dim',conn)\n",
    "df_wetter = du.fetch_data_df('Wetter',conn)\n"
   ]
  },
  {
   "cell_type": "code",
   "execution_count": null,
   "metadata": {},
   "outputs": [],
   "source": [
    "# in order to make fetching data from the database faster:\n",
    "# creation of index for messdaten_auto und messDaten_Fahrrad\n",
    "# conn.isolation_level = None # deaktiviert Autocommit\n",
    "#try to use chunksize in the fetch_data . but we have to define parameter "
   ]
  },
  {
   "cell_type": "code",
   "execution_count": null,
   "metadata": {},
   "outputs": [],
   "source": [
    "import pandas as pd\n",
    "df_merged = pd.merge(df_fahrrad_Zähler, df_bezirke, on=\"Bezirk\", how=\"inner\")\n",
    "\n",
    "df_merged = pd.merge(df_merged, df_mess_Fahrrad, on=\"Zählstelle\", how=\"inner\")\n",
    "\n",
    "# Merge with Date_dim on Installationsdatum and Date\n",
    "df_merged = pd.merge(df_merged, df_date, on=\"DateID\", how=\"inner\")\n",
    "\n",
    "# Merge with time_dim on Installationsdatum time\n",
    "df_merged = pd.merge(df_merged, df_time, on='TimeID', how=\"inner\")\n",
    "\n",
    "# Display the merged da\n",
    "df_merged.head()"
   ]
  },
  {
   "cell_type": "code",
   "execution_count": null,
   "metadata": {},
   "outputs": [],
   "source": [
    "df_merged.columns"
   ]
  },
  {
   "cell_type": "code",
   "execution_count": 5,
   "metadata": {},
   "outputs": [],
   "source": [
    "df_merged.drop(columns=['Installationsdatum', 'Breitengrad', 'Längengrad', 'Geometry'],axis=1,  inplace= True)\n"
   ]
  },
  {
   "cell_type": "code",
   "execution_count": null,
   "metadata": {},
   "outputs": [],
   "source": [
    "df_merged.head()"
   ]
  },
  {
   "cell_type": "code",
   "execution_count": null,
   "metadata": {},
   "outputs": [],
   "source": [
    "import matplotlib.pyplot as plt \n",
    "import seaborn as sns\n",
    "\n",
    "plt.figure(figsize=(10, 6))\n",
    "#X :Month Y: Wert Hue: Bezirke\n",
    "sns.scatterplot( x= df_merged['month'],y=df_merged['Wert'], hue=df_merged['Bezirk'])\n",
    "plt.show()\n"
   ]
  },
  {
   "cell_type": "code",
   "execution_count": 3,
   "metadata": {},
   "outputs": [],
   "source": [
    "import pandas as pd\n",
    "import matplotlib.pyplot as plt\n",
    "\n",
    "# Step 2: Function to process and visualize data chunks\n",
    "def process_chunk(chunk):\n",
    "    # Here you can perform any data manipulations or visualizations\n",
    "    # Example: Calculate mean for 'q_pkw_mq_hr' grouped by 'DateID' and 'stunde'\n",
    "    aggregated_data = chunk.groupby(['DateID', 'stunde'])['q_pkw_mq_hr'].mean().reset_index()\n",
    "\n",
    "    # Example Visualization: Plotting the mean 'q_pkw_mq_hr' over time\n",
    "    plt.figure(figsize=(10, 6))\n",
    "    plt.plot(aggregated_data['stunde'], aggregated_data['q_pkw_mq_hr'], label=\"Average q_pkw_mq_hr\")\n",
    "    plt.xlabel('Hour of the Day')\n",
    "    plt.ylabel('Average q_pkw_mq_hr')\n",
    "    plt.title('Average q_pkw_mq_hr by Hour of the Day')\n",
    "    plt.legend()\n",
    "    plt.show()\n"
   ]
  },
  {
   "cell_type": "code",
   "execution_count": null,
   "metadata": {},
   "outputs": [],
   "source": [
    "chunks = du.fetch_data_df_chunk(conn)\n",
    "\n",
    "# Step 4: Process and visualize each chunk\n",
    "for chunk in chunks:\n",
    "    process_chunk(chunk)"
   ]
  }
 ],
 "metadata": {
  "kernelspec": {
   "display_name": "Python 3",
   "language": "python",
   "name": "python3"
  },
  "language_info": {
   "codemirror_mode": {
    "name": "ipython",
    "version": 3
   },
   "file_extension": ".py",
   "mimetype": "text/x-python",
   "name": "python",
   "nbconvert_exporter": "python",
   "pygments_lexer": "ipython3",
   "version": "3.12.7"
  }
 },
 "nbformat": 4,
 "nbformat_minor": 2
}
