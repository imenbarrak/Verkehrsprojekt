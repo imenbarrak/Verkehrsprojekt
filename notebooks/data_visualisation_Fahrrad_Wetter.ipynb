{
 "cells": [
  {
   "cell_type": "code",
   "execution_count": 2,
   "metadata": {},
   "outputs": [
    {
     "name": "stdout",
     "output_type": "stream",
     "text": [
      "Establish SQLite connection.\n"
     ]
    }
   ],
   "source": [
    "import sys\n",
    "import os\n",
    "\n",
    "# Add the path to `database_scripts` folder\n",
    "sys.path.append(os.path.abspath(\"../database_scripts\"))\n",
    "import  db_utils as du\n",
    "import create_tables as ct\n",
    "\n",
    "\n",
    "conn = ct.create_or_open_database()\n",
    "df_fahrrad_Zähler = du.fetch_data_df('Standorten_Zählstelle',conn)\n",
    "df_mess_Fahrrad= du.fetch_data_df('Messdaten_Fahrrad',conn)\n",
    "df_bezirke= du.fetch_data_df('Bezirke',conn)\n",
    "df_date = du.fetch_data_df('Date_dim',conn)\n",
    "df_time = du.fetch_data_df('Time_dim',conn)\n",
    "df_wetter = du.fetch_data_df('Wetter',conn)"
   ]
  },
  {
   "cell_type": "code",
   "execution_count": 3,
   "metadata": {},
   "outputs": [
    {
     "name": "stdout",
     "output_type": "stream",
     "text": [
      "<class 'pandas.core.frame.DataFrame'>\n",
      "RangeIndex: 33 entries, 0 to 32\n",
      "Data columns (total 4 columns):\n",
      " #   Column              Non-Null Count  Dtype \n",
      "---  ------              --------------  ----- \n",
      " 0   Zählstelle          33 non-null     object\n",
      " 1   Bezirk              33 non-null     object\n",
      " 2   Beschreibung        33 non-null     object\n",
      " 3   Installationsdatum  33 non-null     object\n",
      "dtypes: object(4)\n",
      "memory usage: 1.2+ KB\n"
     ]
    }
   ],
   "source": [
    "df_fahrrad_Zähler.info()"
   ]
  },
  {
   "cell_type": "code",
   "execution_count": 4,
   "metadata": {},
   "outputs": [
    {
     "name": "stdout",
     "output_type": "stream",
     "text": [
      "<class 'pandas.core.frame.DataFrame'>\n",
      "RangeIndex: 0 entries\n",
      "Data columns (total 4 columns):\n",
      " #   Column      Non-Null Count  Dtype  \n",
      "---  ------      --------------  -----  \n",
      " 0   Zählstelle  0 non-null      object \n",
      " 1   DateID      0 non-null      int32  \n",
      " 2   TimeID      0 non-null      int32  \n",
      " 3   Wert        0 non-null      float32\n",
      "dtypes: float32(1), int32(2), object(1)\n",
      "memory usage: 132.0+ bytes\n"
     ]
    }
   ],
   "source": [
    "df_mess_Fahrrad['TimeID'] = df_mess_Fahrrad['TimeID'].astype('int32')\n",
    "df_mess_Fahrrad['DateID'] = df_mess_Fahrrad['DateID'].astype('int32')\n",
    "df_mess_Fahrrad['Wert'] = df_mess_Fahrrad['Wert'].astype('float32')\n",
    "df_mess_Fahrrad.info()"
   ]
  },
  {
   "cell_type": "code",
   "execution_count": 5,
   "metadata": {},
   "outputs": [
    {
     "name": "stdout",
     "output_type": "stream",
     "text": [
      "<class 'pandas.core.frame.DataFrame'>\n",
      "RangeIndex: 12 entries, 0 to 11\n",
      "Data columns (total 4 columns):\n",
      " #   Column       Non-Null Count  Dtype  \n",
      "---  ------       --------------  -----  \n",
      " 0   Bezirk       12 non-null     object \n",
      " 1   Breitengrad  12 non-null     float64\n",
      " 2   Längengrad   12 non-null     float64\n",
      " 3   Geometry     12 non-null     object \n",
      "dtypes: float64(2), object(2)\n",
      "memory usage: 516.0+ bytes\n"
     ]
    }
   ],
   "source": [
    "df_bezirke.info()"
   ]
  },
  {
   "cell_type": "code",
   "execution_count": null,
   "metadata": {},
   "outputs": [],
   "source": [
    "df_wetter.columns"
   ]
  },
  {
   "cell_type": "code",
   "execution_count": 6,
   "metadata": {},
   "outputs": [
    {
     "name": "stdout",
     "output_type": "stream",
     "text": [
      "<class 'pandas.core.frame.DataFrame'>\n",
      "RangeIndex: 631008 entries, 0 to 631007\n",
      "Data columns (total 8 columns):\n",
      " #   Column                    Non-Null Count   Dtype  \n",
      "---  ------                    --------------   -----  \n",
      " 0   DateID                    631008 non-null  int32  \n",
      " 1   TimeID                    631008 non-null  int32  \n",
      " 2   Bezirk                    631008 non-null  object \n",
      " 3   temperature_2m (°C)       631008 non-null  float32\n",
      " 4   relative_humidity_2m (%)  631008 non-null  int32  \n",
      " 5   rain (mm)                 631008 non-null  float32\n",
      " 6   snowfall (cm)             631008 non-null  float32\n",
      " 7   cloud_cover (%)           631008 non-null  float32\n",
      "dtypes: float32(4), int32(3), object(1)\n",
      "memory usage: 21.7+ MB\n"
     ]
    }
   ],
   "source": [
    "df_wetter['TimeID'] = df_wetter['TimeID'].astype('int32')\n",
    "df_wetter['DateID'] = df_wetter['DateID'].astype('int32')\n",
    "df_wetter['temperature_2m (°C)'] = df_wetter['temperature_2m (°C)'].astype('float32')\n",
    "df_wetter['relative_humidity_2m (%)'] = df_wetter['relative_humidity_2m (%)'].astype('int32')\n",
    "df_wetter['rain (mm)'] = df_wetter['rain (mm)'].astype('float32')\n",
    "df_wetter['snowfall (cm)'] = df_wetter['snowfall (cm)'].astype('float32')\n",
    "df_wetter['cloud_cover (%)'] = df_wetter['cloud_cover (%)'].astype('float32')\n",
    "df_wetter.info()"
   ]
  },
  {
   "cell_type": "code",
   "execution_count": 9,
   "metadata": {},
   "outputs": [
    {
     "data": {
      "text/plain": [
       "Zählstelle    0\n",
       "DateID        0\n",
       "TimeID        0\n",
       "Wert          0\n",
       "dtype: int64"
      ]
     },
     "execution_count": 9,
     "metadata": {},
     "output_type": "execute_result"
    }
   ],
   "source": [
    "df_mess_Fahrrad.isna().sum()"
   ]
  },
  {
   "cell_type": "code",
   "execution_count": 7,
   "metadata": {},
   "outputs": [],
   "source": [
    "#print(df_mess_Fahrrad.isna())\n",
    "df_na=df_mess_Fahrrad[df_mess_Fahrrad.isna().any(axis=1)]\n",
    "\n",
    "#df_na['Zählstelle'].unique()"
   ]
  },
  {
   "cell_type": "code",
   "execution_count": 20,
   "metadata": {},
   "outputs": [
    {
     "data": {
      "text/html": [
       "<div>\n",
       "<style scoped>\n",
       "    .dataframe tbody tr th:only-of-type {\n",
       "        vertical-align: middle;\n",
       "    }\n",
       "\n",
       "    .dataframe tbody tr th {\n",
       "        vertical-align: top;\n",
       "    }\n",
       "\n",
       "    .dataframe thead th {\n",
       "        text-align: right;\n",
       "    }\n",
       "</style>\n",
       "<table border=\"1\" class=\"dataframe\">\n",
       "  <thead>\n",
       "    <tr style=\"text-align: right;\">\n",
       "      <th></th>\n",
       "      <th>Zählstelle</th>\n",
       "      <th>DateID</th>\n",
       "      <th>TimeID</th>\n",
       "      <th>Wert</th>\n",
       "    </tr>\n",
       "  </thead>\n",
       "  <tbody>\n",
       "    <tr>\n",
       "      <th>901296</th>\n",
       "      <td>14-CW-JU-O</td>\n",
       "      <td>1124</td>\n",
       "      <td>0</td>\n",
       "      <td>NaN</td>\n",
       "    </tr>\n",
       "    <tr>\n",
       "      <th>901297</th>\n",
       "      <td>14-CW-JU-O</td>\n",
       "      <td>1124</td>\n",
       "      <td>1</td>\n",
       "      <td>NaN</td>\n",
       "    </tr>\n",
       "    <tr>\n",
       "      <th>901298</th>\n",
       "      <td>14-CW-JU-O</td>\n",
       "      <td>1124</td>\n",
       "      <td>2</td>\n",
       "      <td>NaN</td>\n",
       "    </tr>\n",
       "    <tr>\n",
       "      <th>901299</th>\n",
       "      <td>14-CW-JU-O</td>\n",
       "      <td>1124</td>\n",
       "      <td>3</td>\n",
       "      <td>NaN</td>\n",
       "    </tr>\n",
       "    <tr>\n",
       "      <th>901300</th>\n",
       "      <td>14-CW-JU-O</td>\n",
       "      <td>1124</td>\n",
       "      <td>4</td>\n",
       "      <td>NaN</td>\n",
       "    </tr>\n",
       "    <tr>\n",
       "      <th>...</th>\n",
       "      <td>...</td>\n",
       "      <td>...</td>\n",
       "      <td>...</td>\n",
       "      <td>...</td>\n",
       "    </tr>\n",
       "    <tr>\n",
       "      <th>901747</th>\n",
       "      <td>14-CW-JU-O</td>\n",
       "      <td>1277</td>\n",
       "      <td>19</td>\n",
       "      <td>NaN</td>\n",
       "    </tr>\n",
       "    <tr>\n",
       "      <th>901748</th>\n",
       "      <td>14-CW-JU-O</td>\n",
       "      <td>1277</td>\n",
       "      <td>20</td>\n",
       "      <td>NaN</td>\n",
       "    </tr>\n",
       "    <tr>\n",
       "      <th>901749</th>\n",
       "      <td>14-CW-JU-O</td>\n",
       "      <td>1277</td>\n",
       "      <td>21</td>\n",
       "      <td>NaN</td>\n",
       "    </tr>\n",
       "    <tr>\n",
       "      <th>901750</th>\n",
       "      <td>14-CW-JU-O</td>\n",
       "      <td>1277</td>\n",
       "      <td>22</td>\n",
       "      <td>NaN</td>\n",
       "    </tr>\n",
       "    <tr>\n",
       "      <th>901751</th>\n",
       "      <td>14-CW-JU-O</td>\n",
       "      <td>1277</td>\n",
       "      <td>23</td>\n",
       "      <td>NaN</td>\n",
       "    </tr>\n",
       "  </tbody>\n",
       "</table>\n",
       "<p>456 rows × 4 columns</p>\n",
       "</div>"
      ],
      "text/plain": [
       "        Zählstelle  DateID  TimeID  Wert\n",
       "901296  14-CW-JU-O    1124       0   NaN\n",
       "901297  14-CW-JU-O    1124       1   NaN\n",
       "901298  14-CW-JU-O    1124       2   NaN\n",
       "901299  14-CW-JU-O    1124       3   NaN\n",
       "901300  14-CW-JU-O    1124       4   NaN\n",
       "...            ...     ...     ...   ...\n",
       "901747  14-CW-JU-O    1277      19   NaN\n",
       "901748  14-CW-JU-O    1277      20   NaN\n",
       "901749  14-CW-JU-O    1277      21   NaN\n",
       "901750  14-CW-JU-O    1277      22   NaN\n",
       "901751  14-CW-JU-O    1277      23   NaN\n",
       "\n",
       "[456 rows x 4 columns]"
      ]
     },
     "execution_count": 20,
     "metadata": {},
     "output_type": "execute_result"
    }
   ],
   "source": [
    "df_na[df_na['Zählstelle']=='14-CW-JU-O']"
   ]
  },
  {
   "cell_type": "code",
   "execution_count": 23,
   "metadata": {},
   "outputs": [
    {
     "data": {
      "text/html": [
       "<div>\n",
       "<style scoped>\n",
       "    .dataframe tbody tr th:only-of-type {\n",
       "        vertical-align: middle;\n",
       "    }\n",
       "\n",
       "    .dataframe tbody tr th {\n",
       "        vertical-align: top;\n",
       "    }\n",
       "\n",
       "    .dataframe thead th {\n",
       "        text-align: right;\n",
       "    }\n",
       "</style>\n",
       "<table border=\"1\" class=\"dataframe\">\n",
       "  <thead>\n",
       "    <tr style=\"text-align: right;\">\n",
       "      <th></th>\n",
       "      <th>DateID</th>\n",
       "      <th>Date</th>\n",
       "      <th>year</th>\n",
       "      <th>month</th>\n",
       "      <th>day</th>\n",
       "      <th>day_of_the_week</th>\n",
       "      <th>is_holiday</th>\n",
       "      <th>quarter</th>\n",
       "    </tr>\n",
       "  </thead>\n",
       "  <tbody>\n",
       "    <tr>\n",
       "      <th>1123</th>\n",
       "      <td>1124</td>\n",
       "      <td>28.01.2021</td>\n",
       "      <td>2021</td>\n",
       "      <td>1</td>\n",
       "      <td>28</td>\n",
       "      <td>3</td>\n",
       "      <td>0</td>\n",
       "      <td>1</td>\n",
       "    </tr>\n",
       "  </tbody>\n",
       "</table>\n",
       "</div>"
      ],
      "text/plain": [
       "      DateID        Date  year  month  day day_of_the_week  is_holiday  \\\n",
       "1123    1124  28.01.2021  2021      1   28               3           0   \n",
       "\n",
       "      quarter  \n",
       "1123        1  "
      ]
     },
     "execution_count": 23,
     "metadata": {},
     "output_type": "execute_result"
    }
   ],
   "source": [
    "df_date[df_date['DateID']==1124]"
   ]
  },
  {
   "cell_type": "code",
   "execution_count": null,
   "metadata": {},
   "outputs": [],
   "source": [
    "df_mess_Fahrrad['TimeID'] = df_mess_Fahrrad['TimeID'].astype('int32')\n",
    "df_mess_Fahrrad['DateID'] = df_mess_Fahrrad['DateID'].astype('int32')\n",
    "df_mess_Fahrrad['Wert'] = df_mess_Fahrrad['Wert'].astype('float32')\n",
    "df_mess_Fahrrad.info()"
   ]
  },
  {
   "cell_type": "code",
   "execution_count": 9,
   "metadata": {},
   "outputs": [],
   "source": [
    "import pandas as pd\n",
    "import seaborn as sns\n",
    "import matplotlib.pyplot as plt"
   ]
  },
  {
   "cell_type": "code",
   "execution_count": null,
   "metadata": {},
   "outputs": [],
   "source": [
    "df_mess_Fahrrad.isna()"
   ]
  },
  {
   "cell_type": "code",
   "execution_count": null,
   "metadata": {},
   "outputs": [],
   "source": [
    "df_merged = df_mess_Fahrrad.merge(df_fahrrad_Zähler, on='Zählstelle', how='left')\n",
    "\n",
    "# 2. Wetterdaten hinzufügen (über DateID und optional Bezirk)\n",
    "df_merged = df_merged.merge(df_wetter, on=['DateID','TimeID', 'Bezirk'], how='left')\n",
    "\n",
    "print(df_merged.info())\n",
    "print(df_merged.head())"
   ]
  },
  {
   "cell_type": "code",
   "execution_count": null,
   "metadata": {},
   "outputs": [],
   "source": [
    "\n",
    "plt.figure(figsize=(10, 6))\n",
    "sns.heatmap(df_merged.isna(), cbar=False, cmap='viridis')\n",
    "plt.title('Heatmap der fehlenden Werte')\n",
    "plt.xlabel('Spalten')\n",
    "plt.ylabel('Zeilen')\n",
    "plt.show()"
   ]
  },
  {
   "cell_type": "code",
   "execution_count": null,
   "metadata": {},
   "outputs": [],
   "source": [
    "df_bezirke"
   ]
  },
  {
   "cell_type": "code",
   "execution_count": null,
   "metadata": {},
   "outputs": [],
   "source": [
    "df_time"
   ]
  },
  {
   "cell_type": "code",
   "execution_count": null,
   "metadata": {},
   "outputs": [],
   "source": [
    "df_wetter.isna().sum()"
   ]
  },
  {
   "cell_type": "code",
   "execution_count": null,
   "metadata": {},
   "outputs": [],
   "source": [
    "import pandas as pd\n",
    "\n",
    "#Merge with Wetter\n",
    "# wenn mit Durschnitt on join would be TimeID auch aber hier wir können auch nach Bezirk joinen\n",
    "df_merged = pd.merge(df_mess_Fahrrad, df_wetter, on=['DateID','TimeID'],how='inner') \n",
    "df_merged.head(10)"
   ]
  },
  {
   "cell_type": "code",
   "execution_count": null,
   "metadata": {},
   "outputs": [],
   "source": [
    "df_merged = pd.merge(df_mess_Fahrrad, df_mess_Fahrrad, on=\"Zählstelle\", how=\"inner\")\n",
    "\n",
    "# Merge with Date_dim on Installationsdatum and Date\n",
    "df_merged = pd.merge(df_merged, df_date, on=\"DateID\", how=\"inner\")\n",
    "\n",
    "# Merge with time_dim on Installationsdatum time\n",
    "df_merged = pd.merge(df_merged, df_time, on='TimeID', how=\"inner\")\n",
    "\n",
    "\n",
    "# Display the merged da\n",
    "df_merged.head()"
   ]
  }
 ],
 "metadata": {
  "kernelspec": {
   "display_name": "Python 3",
   "language": "python",
   "name": "python3"
  },
  "language_info": {
   "codemirror_mode": {
    "name": "ipython",
    "version": 3
   },
   "file_extension": ".py",
   "mimetype": "text/x-python",
   "name": "python",
   "nbconvert_exporter": "python",
   "pygments_lexer": "ipython3",
   "version": "3.12.7"
  }
 },
 "nbformat": 4,
 "nbformat_minor": 2
}
