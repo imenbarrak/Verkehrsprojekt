{
 "cells": [
  {
   "cell_type": "code",
   "execution_count": null,
   "metadata": {},
   "outputs": [],
   "source": [
    "import sys\n",
    "import os\n",
    "\n",
    "# Add the path to `database_scripts` folder\n",
    "sys.path.append(os.path.abspath(\"../database_scripts\"))\n",
    "import db_utils as du\n",
    "import create_tables as ct\n",
    "\n",
    "\n",
    "conn = ct.create_or_open_database()\n",
    "df_fahrrad_Zähler = du.fetch_data_df('Standorten_Zählstelle',conn)\n",
    "df_mess_Fahrrad= du.fetch_data_df('Messdaten_Fahrrad',conn)\n",
    "df_bezirke= du.fetch_data_df('Bezirke',conn)\n",
    "df_date = du.fetch_data_df('Date_dim',conn)\n",
    "df_time = du.fetch_data_df('Time_dim',conn)\n",
    "df_wetter = du.fetch_data_df('Wetter',conn)"
   ]
  },
  {
   "cell_type": "code",
   "execution_count": null,
   "metadata": {},
   "outputs": [],
   "source": [
    "df_mess_Fahrrad"
   ]
  },
  {
   "cell_type": "code",
   "execution_count": null,
   "metadata": {},
   "outputs": [],
   "source": [
    "df_bezirke"
   ]
  },
  {
   "cell_type": "code",
   "execution_count": null,
   "metadata": {},
   "outputs": [],
   "source": [
    "df_time"
   ]
  },
  {
   "cell_type": "code",
   "execution_count": null,
   "metadata": {},
   "outputs": [],
   "source": [
    "df_wetter"
   ]
  },
  {
   "cell_type": "code",
   "execution_count": null,
   "metadata": {},
   "outputs": [],
   "source": [
    "import pandas as pd\n",
    "df_merged = pd.merge(df_fahrrad_Zähler, df_bezirke, on=\"Bezirk\", how=\"inner\")\n",
    "\n",
    "df_merged = pd.merge(df_merged, df_mess_Fahrrad, on=\"Zählstelle\", how=\"inner\")\n",
    "\n",
    "# Merge with Date_dim on Installationsdatum and Date\n",
    "df_merged = pd.merge(df_merged, df_date, on=\"DateID\", how=\"inner\")\n",
    "\n",
    "# Merge with time_dim on Installationsdatum time\n",
    "df_merged = pd.merge(df_merged, df_time, on='TimeID', how=\"inner\")\n",
    "\n",
    "#Merge with Wetter\n",
    "# wenn mit Durschnitt on join would be TimeID auch aber hier wir können auch nach Bezirk joinen\n",
    "df_merged = pd.merge(df_merged, df_wetter, on='Bezirk', how=\"inner\") \n",
    "# Display the merged da\n",
    "df_merged.head()"
   ]
  }
 ],
 "metadata": {
  "kernelspec": {
   "display_name": "Python 3",
   "language": "python",
   "name": "python3"
  },
  "language_info": {
   "codemirror_mode": {
    "name": "ipython",
    "version": 3
   },
   "file_extension": ".py",
   "mimetype": "text/x-python",
   "name": "python",
   "nbconvert_exporter": "python",
   "pygments_lexer": "ipython3",
   "version": "3.12.7"
  }
 },
 "nbformat": 4,
 "nbformat_minor": 2
}
