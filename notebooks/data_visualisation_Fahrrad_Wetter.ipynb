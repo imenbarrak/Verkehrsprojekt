{
 "cells": [
  {
   "cell_type": "code",
   "execution_count": 1,
   "metadata": {},
   "outputs": [
    {
     "name": "stdout",
     "output_type": "stream",
     "text": [
      "Establish SQLite connection.\n"
     ]
    }
   ],
   "source": [
    "import sys\n",
    "import os\n",
    "\n",
    "# Add the path to `database_scripts` folder\n",
    "sys.path.append(os.path.abspath(\"../database_scripts\"))\n",
    "import  db_utils as du\n",
    "import create_tables as ct\n",
    "\n",
    "\n",
    "conn = ct.create_or_open_database()\n",
    "df_fahrrad_Zähler = du.fetch_data_df('Standorten_Zählstelle',conn)\n",
    "df_mess_Fahrrad= du.fetch_data_df('Messdaten_Fahrrad',conn)\n",
    "df_bezirke= du.fetch_data_df('Bezirke',conn)\n"
   ]
  },
  {
   "cell_type": "code",
   "execution_count": null,
   "metadata": {},
   "outputs": [],
   "source": [
    "df_date = du.fetch_data_df('Date_dim',conn)\n",
    "df_time = du.fetch_data_df('Time_dim',conn)\n",
    "df_wetter = du.fetch_data_df('Wetter',conn)"
   ]
  },
  {
   "cell_type": "code",
   "execution_count": 6,
   "metadata": {},
   "outputs": [],
   "source": [
    "#type conversion inside the dataframe\n",
    "df_time['TimeID'] = df_time['TimeID'].astype('int')\n",
    "df_date['DateID'] = df_date['DateID'].astype('int')\n",
    "df_wetter['TimeID'] = df_wetter['TimeID'].astype('int')\n",
    "df_wetter['DateID'] = df_wetter['DateID'].astype('int32')\n",
    "df_date['year'] = df_date['year'].astype('int')\n",
    "df_date['month'] = df_date['month'].astype('int')\n",
    "df_date['day'] = df_date['day'].astype('int')\n",
    "df_date['is_holiday'] = df_date['is_holiday'].astype('bool')\n",
    "df_date['quarter'] = df_date['quarter'].astype('int')\n",
    "df_mess_Fahrrad['TimeID'] = df_mess_Fahrrad['TimeID'].astype('int')\n",
    "df_mess_Fahrrad['DateID'] = df_mess_Fahrrad['DateID'].astype('int')\n",
    "#df_mess_Fahrrad['Wert'] = df_mess_Fahrrad['Wert'].astype('int32')\n",
    "\n",
    "df_wetter['temperature_2m (°C)'] = df_wetter['temperature_2m (°C)'].astype('float32')\n",
    "df_wetter['relative_humidity_2m (%)'] = df_wetter['relative_humidity_2m (%)'].astype('float32')\n",
    "df_wetter['rain (mm)'] = df_wetter['rain (mm)'].astype('float32')\n",
    "df_wetter['snowfall (cm)'] = df_wetter['snowfall (cm)'].astype('float32')\n",
    "df_wetter['cloud_cover (%)'] = df_wetter['cloud_cover (%)'].astype('float32')\n"
   ]
  },
  {
   "cell_type": "code",
   "execution_count": 3,
   "metadata": {},
   "outputs": [],
   "source": [
    "#df_na = df_mess_Fahrrad.isna()#.sum()\n",
    "#df_mess_Fahrrad.fillna(0)"
   ]
  },
  {
   "cell_type": "code",
   "execution_count": 4,
   "metadata": {},
   "outputs": [],
   "source": [
    "#df_na_rows = df_mess_Fahrrad[df_mess_Fahrrad.isna().any(axis=1)]\n",
    "#print(df_na_rows)"
   ]
  },
  {
   "cell_type": "code",
   "execution_count": 5,
   "metadata": {},
   "outputs": [],
   "source": [
    "#df_time['time_of_the_day'].unique()"
   ]
  },
  {
   "cell_type": "code",
   "execution_count": 7,
   "metadata": {},
   "outputs": [],
   "source": [
    "#Feature Engineering:\n",
    "#add a new colum for Zählstelle to be converted to number\n",
    "df_fahrrad_Zähler['Zählstelle_ID'] = range(0, df_fahrrad_Zähler.shape[0])\n",
    "df_fahrrad_Zähler['Zählstelle_ID'] = df_fahrrad_Zähler['Zählstelle_ID'].astype('int')\n",
    "df_bezirke['Bezirk_ID'] =  range(0, df_bezirke.shape[0])\n",
    "df_bezirke['Bezirk_ID'] = df_bezirke['Bezirk_ID'].astype('int')\n",
    "\n",
    "def time_of_the_day_as_number(time_of_the_day):\n",
    "    if time_of_the_day == 'nachts': \n",
    "        return 0\n",
    "    if time_of_the_day == 'morgens':\n",
    "        return 1\n",
    "    if time_of_the_day == 'vormittags':\n",
    "        return 2\n",
    "    if time_of_the_day == 'mittags':\n",
    "        return 3\n",
    "    if time_of_the_day == 'nachmittags':\n",
    "        return 4\n",
    "    else:\n",
    "        return 5\n",
    "df_time['timeoftheday']=df_time['time_of_the_day'].apply(time_of_the_day_as_number)\n",
    "df_time['timeoftheday'] = df_time['timeoftheday'].astype('int')"
   ]
  },
  {
   "cell_type": "code",
   "execution_count": null,
   "metadata": {},
   "outputs": [
    {
     "data": {
      "text/html": [
       "<div>\n",
       "<style scoped>\n",
       "    .dataframe tbody tr th:only-of-type {\n",
       "        vertical-align: middle;\n",
       "    }\n",
       "\n",
       "    .dataframe tbody tr th {\n",
       "        vertical-align: top;\n",
       "    }\n",
       "\n",
       "    .dataframe thead th {\n",
       "        text-align: right;\n",
       "    }\n",
       "</style>\n",
       "<table border=\"1\" class=\"dataframe\">\n",
       "  <thead>\n",
       "    <tr style=\"text-align: right;\">\n",
       "      <th></th>\n",
       "      <th>Zählstelle</th>\n",
       "      <th>Bezirk</th>\n",
       "      <th>Beschreibung</th>\n",
       "      <th>Installationsdatum</th>\n",
       "      <th>Breitengrad</th>\n",
       "      <th>Längengrad</th>\n",
       "      <th>Geometry</th>\n",
       "      <th>DateID</th>\n",
       "      <th>TimeID</th>\n",
       "      <th>Wert</th>\n",
       "    </tr>\n",
       "  </thead>\n",
       "  <tbody>\n",
       "    <tr>\n",
       "      <th>0</th>\n",
       "      <td>12-PA-SCH</td>\n",
       "      <td>Pankow</td>\n",
       "      <td>Schwedter Steg</td>\n",
       "      <td>2012-03-01 00:00:00</td>\n",
       "      <td>6.908842e+06</td>\n",
       "      <td>1.496162e+06</td>\n",
       "      <td>MULTIPOLYGON (((13.388380799999998 52.5676794,...</td>\n",
       "      <td>01.01.2018</td>\n",
       "      <td>0</td>\n",
       "      <td>14</td>\n",
       "    </tr>\n",
       "    <tr>\n",
       "      <th>1</th>\n",
       "      <td>12-PA-SCH</td>\n",
       "      <td>Pankow</td>\n",
       "      <td>Schwedter Steg</td>\n",
       "      <td>2012-03-01 00:00:00</td>\n",
       "      <td>6.908842e+06</td>\n",
       "      <td>1.496162e+06</td>\n",
       "      <td>MULTIPOLYGON (((13.388380799999998 52.5676794,...</td>\n",
       "      <td>01.01.2018</td>\n",
       "      <td>1</td>\n",
       "      <td>16</td>\n",
       "    </tr>\n",
       "    <tr>\n",
       "      <th>2</th>\n",
       "      <td>12-PA-SCH</td>\n",
       "      <td>Pankow</td>\n",
       "      <td>Schwedter Steg</td>\n",
       "      <td>2012-03-01 00:00:00</td>\n",
       "      <td>6.908842e+06</td>\n",
       "      <td>1.496162e+06</td>\n",
       "      <td>MULTIPOLYGON (((13.388380799999998 52.5676794,...</td>\n",
       "      <td>01.01.2018</td>\n",
       "      <td>2</td>\n",
       "      <td>7</td>\n",
       "    </tr>\n",
       "    <tr>\n",
       "      <th>3</th>\n",
       "      <td>12-PA-SCH</td>\n",
       "      <td>Pankow</td>\n",
       "      <td>Schwedter Steg</td>\n",
       "      <td>2012-03-01 00:00:00</td>\n",
       "      <td>6.908842e+06</td>\n",
       "      <td>1.496162e+06</td>\n",
       "      <td>MULTIPOLYGON (((13.388380799999998 52.5676794,...</td>\n",
       "      <td>01.01.2018</td>\n",
       "      <td>3</td>\n",
       "      <td>13</td>\n",
       "    </tr>\n",
       "    <tr>\n",
       "      <th>4</th>\n",
       "      <td>12-PA-SCH</td>\n",
       "      <td>Pankow</td>\n",
       "      <td>Schwedter Steg</td>\n",
       "      <td>2012-03-01 00:00:00</td>\n",
       "      <td>6.908842e+06</td>\n",
       "      <td>1.496162e+06</td>\n",
       "      <td>MULTIPOLYGON (((13.388380799999998 52.5676794,...</td>\n",
       "      <td>01.01.2018</td>\n",
       "      <td>4</td>\n",
       "      <td>1</td>\n",
       "    </tr>\n",
       "  </tbody>\n",
       "</table>\n",
       "</div>"
      ],
      "text/plain": [
       "  Zählstelle  Bezirk    Beschreibung   Installationsdatum   Breitengrad  \\\n",
       "0  12-PA-SCH  Pankow  Schwedter Steg  2012-03-01 00:00:00  6.908842e+06   \n",
       "1  12-PA-SCH  Pankow  Schwedter Steg  2012-03-01 00:00:00  6.908842e+06   \n",
       "2  12-PA-SCH  Pankow  Schwedter Steg  2012-03-01 00:00:00  6.908842e+06   \n",
       "3  12-PA-SCH  Pankow  Schwedter Steg  2012-03-01 00:00:00  6.908842e+06   \n",
       "4  12-PA-SCH  Pankow  Schwedter Steg  2012-03-01 00:00:00  6.908842e+06   \n",
       "\n",
       "     Längengrad                                           Geometry  \\\n",
       "0  1.496162e+06  MULTIPOLYGON (((13.388380799999998 52.5676794,...   \n",
       "1  1.496162e+06  MULTIPOLYGON (((13.388380799999998 52.5676794,...   \n",
       "2  1.496162e+06  MULTIPOLYGON (((13.388380799999998 52.5676794,...   \n",
       "3  1.496162e+06  MULTIPOLYGON (((13.388380799999998 52.5676794,...   \n",
       "4  1.496162e+06  MULTIPOLYGON (((13.388380799999998 52.5676794,...   \n",
       "\n",
       "       DateID  TimeID  Wert  \n",
       "0  01.01.2018       0    14  \n",
       "1  01.01.2018       1    16  \n",
       "2  01.01.2018       2     7  \n",
       "3  01.01.2018       3    13  \n",
       "4  01.01.2018       4     1  "
      ]
     },
     "execution_count": 3,
     "metadata": {},
     "output_type": "execute_result"
    }
   ],
   "source": [
    "df_merged = df_fahrrad_Zähler.merge(df_bezirke, on='Bezirk', how='left')\n",
    "df_merged = df_merged.merge(df_mess_Fahrrad, on='Zählstelle', how='left')\n",
    "df_merged = df_merged.rename(columns={'DateID': 'Date', 'TimeID':'Time'})\n",
    "df_merged.to_csv('MessDatenFahrrad.csv')\n",
    "#print(df_merged.info())\n"
   ]
  },
  {
   "cell_type": "code",
   "execution_count": 4,
   "metadata": {},
   "outputs": [
    {
     "data": {
      "text/plain": [
       "14139600"
      ]
     },
     "execution_count": 4,
     "metadata": {},
     "output_type": "execute_result"
    }
   ],
   "source": [
    "df_merged.size"
   ]
  },
  {
   "cell_type": "code",
   "execution_count": null,
   "metadata": {},
   "outputs": [],
   "source": [
    "df_date = du.fetch_data_df('Date_dim',conn)\n",
    "df_time = du.fetch_data_df('Time_dim',conn)\n",
    "df_wetter = du.fetch_data_df('Wetter',conn)"
   ]
  },
  {
   "cell_type": "code",
   "execution_count": null,
   "metadata": {},
   "outputs": [],
   "source": [
    "df_merged.drop(['time_of_the_day','Breitengrad', 'Längengrad', 'Geometry','Bezirk','Date','Beschreibung','Installationsdatum','Zählstelle'], axis = 1, inplace= True)"
   ]
  },
  {
   "cell_type": "code",
   "execution_count": null,
   "metadata": {},
   "outputs": [],
   "source": [
    "#sns.jointplot(x = 'Time on App', y = 'Length of Membership', kind = 'hex', data = kunden)"
   ]
  },
  {
   "cell_type": "code",
   "execution_count": null,
   "metadata": {},
   "outputs": [],
   "source": [
    "#Linear Regression ohne Anpassungen /Normalisierung \n",
    "from sklearn.model_selection import train_test_split\n",
    "from sklearn.linear_model import LinearRegression\n",
    "from sklearn import metrics\n",
    "import numpy as np\n",
    "df_merged.dropna(inplace=True, axis= 0)  # the Bezirk Reinickendorf   wurde gelöscht  id= 7\n",
    "X = df_merged.drop(['Wert'], axis = 1)\n",
    "y = df_merged['Wert']\n",
    "X_train, X_test, y_train, y_test = train_test_split(X, y, test_size=0.33, random_state=101)\n",
    "lr = LinearRegression()\n",
    "lr.fit(X_train, y_train)\n",
    "predictions = lr.predict(X_test)"
   ]
  },
  {
   "cell_type": "code",
   "execution_count": null,
   "metadata": {},
   "outputs": [],
   "source": [
    "print('MAE:', metrics.mean_absolute_error(y_test, predictions))\n",
    "print('MSE:', metrics.mean_squared_error(y_test, predictions))\n",
    "print('RSE:', np.sqrt(metrics.mean_squared_error(y_test, predictions)))"
   ]
  },
  {
   "cell_type": "code",
   "execution_count": null,
   "metadata": {},
   "outputs": [],
   "source": [
    "import matplotlib.pyplot as plt\n",
    "plt.scatter(y_test, predictions)\n",
    "plt.xlabel('Korrekte Labels: y_test')\n",
    "plt.ylabel('Vorhergesagten Labels: predictions')\n",
    "# there is no real linera relation between the parameter and the target Wert (Anzahl) deswegen wir möchten mit einem andere Algorithm es probieren"
   ]
  },
  {
   "cell_type": "code",
   "execution_count": null,
   "metadata": {},
   "outputs": [],
   "source": [
    "from sklearn.preprocessing import StandardScaler\n",
    "from sklearn.model_selection import train_test_split\n",
    "from sklearn.metrics import mean_absolute_error, mean_squared_error, r2_score\n",
    "\n",
    "df_merged.dropna(inplace=True, axis= 0)  # the Bezirk Reinickendorf   wurde gelöscht  id= 7\n",
    "X = df_merged.drop(['Wert'], axis = 1)\n",
    "y = df_merged['Wert']\n",
    "X_train, X_test, y_train, y_test = train_test_split(X, y, test_size=0.33, random_state=101)\n",
    "scalar = StandardScaler()\n",
    "X_test = scalar.fit_transform(X_test)\n",
    "X_train = scalar.fit_transform(X_train)"
   ]
  },
  {
   "cell_type": "code",
   "execution_count": null,
   "metadata": {},
   "outputs": [],
   "source": [
    "from sklearn.neighbors import KNeighborsRegressor\n",
    "knn_model = KNeighborsRegressor(n_neighbors=5)  # You can tune k as a hyperparameter\n",
    "knn_model.fit(X_train, y_train)\n",
    "\n",
    "# Step 4: Make predictions\n",
    "y_pred = knn_model.predict(X_test)\n",
    "\n",
    "# Step 5: Evaluate the model\n",
    "mae = mean_absolute_error(y_test, y_pred)\n",
    "mse = mean_squared_error(y_test, y_pred)\n",
    "r2 = r2_score(y_test, y_pred)\n",
    "\n",
    "print(f'MAE: {mae}')\n",
    "print(f'MSE: {mse}')\n",
    "print(f'R²: {r2}')"
   ]
  },
  {
   "cell_type": "code",
   "execution_count": null,
   "metadata": {},
   "outputs": [],
   "source": [
    "from sklearn.metrics import classification_report, confusion_matrix\n",
    "print(confusion_matrix(y_test, predictions))\n",
    "print(classification_report(y_test, predictions))"
   ]
  },
  {
   "cell_type": "code",
   "execution_count": null,
   "metadata": {},
   "outputs": [],
   "source": [
    "from sklearn.svm import SVC\n",
    "svr_model = SVC(kernel='rbf')\n",
    "svr_model.fit(X_train, y_train)\n",
    "y_pred = svr_model.predict(X_test)\n",
    "# Step 5: Evaluate the model\n",
    "mae = mean_absolute_error(y_test, y_pred)\n",
    "mse = mean_squared_error(y_test, y_pred)\n",
    "r2 = r2_score(y_test, y_pred)\n",
    "\n",
    "print(f'MAE: {mae}')\n",
    "print(f'MSE: {mse}')\n",
    "print(f'R2: {r2}')"
   ]
  }
 ],
 "metadata": {
  "kernelspec": {
   "display_name": "Python 3",
   "language": "python",
   "name": "python3"
  },
  "language_info": {
   "codemirror_mode": {
    "name": "ipython",
    "version": 3
   },
   "file_extension": ".py",
   "mimetype": "text/x-python",
   "name": "python",
   "nbconvert_exporter": "python",
   "pygments_lexer": "ipython3",
   "version": "3.12.7"
  }
 },
 "nbformat": 4,
 "nbformat_minor": 2
}
