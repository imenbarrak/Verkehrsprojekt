{
 "cells": [
  {
   "cell_type": "code",
   "execution_count": null,
   "metadata": {},
   "outputs": [],
   "source": [
    "import sys\n",
    "import os\n",
    "\n",
    "# Add the path to `database_scripts` folder\n",
    "sys.path.append(os.path.abspath(\"../database_scripts\"))\n",
    "import  db_utils as du\n",
    "import create_tables as ct\n",
    "\n",
    "\n",
    "conn = ct.create_or_open_database()\n",
    "df_fahrrad_Zähler = du.fetch_data_df('Standorten_Zählstelle',conn)\n",
    "df_mess_Fahrrad= du.fetch_data_df('Messdaten_Fahrrad',conn)\n",
    "df_bezirke= du.fetch_data_df('Bezirke',conn)\n",
    "df_date = du.fetch_data_df('Date_dim',conn)\n",
    "df_time = du.fetch_data_df('Time_dim',conn)\n",
    "df_wetter = du.fetch_data_df('Wetter',conn)"
   ]
  },
  {
   "cell_type": "code",
   "execution_count": null,
   "metadata": {},
   "outputs": [],
   "source": [
    "#type conversion inside the dataframe\n",
    "df_time['TimeID'] = df_time['TimeID'].astype('int')\n",
    "df_date['DateID'] = df_date['DateID'].astype('int')\n",
    "df_wetter['TimeID'] = df_wetter['TimeID'].astype('int')\n",
    "df_wetter['DateID'] = df_wetter['DateID'].astype('int32')\n",
    "df_date['year'] = df_date['year'].astype('int')\n",
    "df_date['month'] = df_date['month'].astype('int')\n",
    "df_date['day'] = df_date['day'].astype('int')\n",
    "df_date['is_holiday'] = df_date['is_holiday'].astype('bool')\n",
    "df_date['quarter'] = df_date['quarter'].astype('int')\n",
    "df_mess_Fahrrad['TimeID'] = df_mess_Fahrrad['TimeID'].astype('int')\n",
    "df_mess_Fahrrad['DateID'] = df_mess_Fahrrad['DateID'].astype('int')\n",
    "#df_mess_Fahrrad['Wert'] = df_mess_Fahrrad['Wert'].astype('int32')\n",
    "\n",
    "df_wetter['temperature_2m (°C)'] = df_wetter['temperature_2m (°C)'].astype('float32')\n",
    "df_wetter['relative_humidity_2m (%)'] = df_wetter['relative_humidity_2m (%)'].astype('float32')\n",
    "df_wetter['rain (mm)'] = df_wetter['rain (mm)'].astype('float32')\n",
    "df_wetter['snowfall (cm)'] = df_wetter['snowfall (cm)'].astype('float32')\n",
    "df_wetter['cloud_cover (%)'] = df_wetter['cloud_cover (%)'].astype('float32')\n"
   ]
  },
  {
   "cell_type": "code",
   "execution_count": null,
   "metadata": {},
   "outputs": [],
   "source": [
    "#Feature Engineering:\n",
    "#add a new colum for Zählstelle to be converted to number\n",
    "df_fahrrad_Zähler['Zählstelle_ID'] = range(0, df_fahrrad_Zähler.shape[0])\n",
    "df_fahrrad_Zähler['Zählstelle_ID'] = df_fahrrad_Zähler['Zählstelle_ID'].astype('int')\n",
    "df_bezirke['Bezirk_ID'] =  range(0, df_bezirke.shape[0])\n",
    "df_bezirke['Bezirk_ID'] = df_bezirke['Bezirk_ID'].astype('int')\n",
    "\n",
    "def time_of_the_day_as_number(time_of_the_day):\n",
    "    if time_of_the_day == 'nachts': \n",
    "        return 0\n",
    "    if time_of_the_day == 'morgens':\n",
    "        return 1\n",
    "    if time_of_the_day == 'vormittags':\n",
    "        return 2\n",
    "    if time_of_the_day == 'mittags':\n",
    "        return 3\n",
    "    if time_of_the_day == 'nachmittags':\n",
    "        return 4\n",
    "    else:\n",
    "        return 5\n",
    "df_time['timeoftheday']=df_time['time_of_the_day'].apply(time_of_the_day_as_number)\n",
    "df_time['timeoftheday'] = df_time['timeoftheday'].astype('int')"
   ]
  },
  {
   "cell_type": "code",
   "execution_count": null,
   "metadata": {},
   "outputs": [],
   "source": [
    "df_merged = df_bezirke.merge(df_fahrrad_Zähler, on='Bezirk', how='left')\n",
    "df_merged = df_merged.merge(df_mess_Fahrrad, on='Zählstelle', how='left')\n",
    "df_merged = df_merged.merge(df_wetter, on=['DateID','TimeID', 'Bezirk'], how='left')\n",
    "df_merged = df_merged.merge(df_date, on='DateID', how='left')\n",
    "df_merged = df_merged.merge(df_time, on='TimeID', how='left')\n",
    "#print(df_merged.info())"
   ]
  },
  {
   "cell_type": "code",
   "execution_count": null,
   "metadata": {},
   "outputs": [],
   "source": [
    "df_merged.drop(['time_of_the_day','Breitengrad', 'Längengrad', 'Geometry','Bezirk','Date','Beschreibung','Installationsdatum','Zählstelle'], axis = 1, inplace= True)\n",
    "from tabulate import tabulate\n",
    "\n",
    "# Display the DataFrame as a table\n",
    "print(tabulate(df_merged.head(), headers='keys', tablefmt='pretty'))"
   ]
  },
  {
   "cell_type": "code",
   "execution_count": null,
   "metadata": {},
   "outputs": [],
   "source": [
    "import seaborn as sns \n",
    "sns.heatmap(df_merged.corr())"
   ]
  },
  {
   "cell_type": "code",
   "execution_count": null,
   "metadata": {},
   "outputs": [],
   "source": [
    "df_merged.info()"
   ]
  },
  {
   "cell_type": "code",
   "execution_count": null,
   "metadata": {},
   "outputs": [],
   "source": [
    "df_merged_2018=df_merged[df_merged['year'] == 2018]\n",
    "df_sampled_2028 = df_merged_2018.sample(frac=0.1, random_state=42) \n",
    "df_merged_pairplot_Wetter =df_sampled_2028[['Wert','temperature_2m (°C)','relative_humidity_2m (%)','rain (mm)','snowfall (cm)','cloud_cover (%)','month']]\n",
    "sns.pairplot(df_merged_pairplot_Wetter, hue='month')"
   ]
  },
  {
   "cell_type": "code",
   "execution_count": null,
   "metadata": {},
   "outputs": [],
   "source": [
    "df_merged_pairplot_Date =df_sampled_2028[['Wert','day_of_the_week','is_holiday','timeoftheday','relative_humidity_2m (%)']]\n",
    "sns.pairplot(df_merged_pairplot_Date, hue = 'relative_humidity_2m (%)')"
   ]
  },
  {
   "cell_type": "code",
   "execution_count": null,
   "metadata": {},
   "outputs": [],
   "source": [
    "#show nan Werte \n",
    "import matplotlib.pyplot as plt\n",
    "import seaborn as sns\n",
    "plt.figure(figsize=(10, 6))\n",
    "sns.heatmap(df_merged.isna(), cbar=False, cmap='viridis',yticklabels=False)\n",
    "plt.title('Heatmap der fehlenden Werte')\n",
    "plt.xlabel('Spalten')\n",
    "plt.ylabel('Zeilen')\n",
    "plt.show()"
   ]
  }
 ],
 "metadata": {
  "language_info": {
   "name": "python"
  }
 },
 "nbformat": 4,
 "nbformat_minor": 2
}
